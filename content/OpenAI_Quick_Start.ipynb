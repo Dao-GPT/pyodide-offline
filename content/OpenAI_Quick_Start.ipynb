{
  "metadata": {
    "kernelspec": {
      "name": "python",
      "display_name": "Python (Pyodide)",
      "language": "python"
    },
    "language_info": {
      "codemirror_mode": {
        "name": "python",
        "version": 3
      },
      "file_extension": ".py",
      "mimetype": "text/x-python",
      "name": "python",
      "nbconvert_exporter": "python",
      "pygments_lexer": "ipython3",
      "version": "3.8"
    },
    "colab": {
      "provenance": []
    }
  },
  "nbformat_minor": 4,
  "nbformat": 4,
  "cells": [
    {
      "cell_type": "markdown",
      "source": "# Step 1: To install the underlying packages\nYou don't need change this part.",
      "metadata": {
        "id": "UEChYEVRNMni",
        "jp-MarkdownHeadingCollapsed": true
      }
    },
    {
      "cell_type": "code",
      "source": "import micropip\nawait micropip.install('https://jupyterlite.readthedocs.io/multidict-4.7.6-py3-none-any.whl', keep_going=True)\nawait micropip.install('https://jupyterlite.readthedocs.io/frozenlist-1.4.0-py3-none-any.whl', keep_going=True)",
      "metadata": {
        "trusted": true,
        "id": "grSOYS3uNMnk"
      },
      "outputs": [],
      "execution_count": 10
    },
    {
      "cell_type": "code",
      "source": "await micropip.install('https://jupyterlite.readthedocs.io/urllib3-2.1.0-py3-none-any.whl', keep_going=True)\nawait micropip.install('https://jupyterlite.readthedocs.io/aiohttp-3.9.1-py3-none-any.whl', keep_going=True)",
      "metadata": {
        "trusted": true
      },
      "outputs": [],
      "execution_count": 11
    },
    {
      "cell_type": "code",
      "source": "await micropip.install('https://jupyterlite.readthedocs.io/openai-1.6.1-py3-none-any.whl', keep_going=True)",
      "metadata": {
        "trusted": true
      },
      "outputs": [],
      "execution_count": 12
    },
    {
      "cell_type": "code",
      "source": "await micropip.install(\"ssl\")\nimport ssl\nawait micropip.install(\"httpx\", keep_going=True)\nimport httpx\nimport urllib3\nurllib3.disable_warnings(urllib3.exceptions.InsecureRequestWarning)\nimport json",
      "metadata": {
        "trusted": true
      },
      "outputs": [],
      "execution_count": 13
    },
    {
      "cell_type": "markdown",
      "source": "# Step 2: To prepare a special http_client for your OpenAI connection\nYou don't need change this part.",
      "metadata": {
        "id": "_ix5_fEMNMnm",
        "jp-MarkdownHeadingCollapsed": true
      }
    },
    {
      "cell_type": "code",
      "source": "import httpx\nimport urllib3\nurllib3.disable_warnings(urllib3.exceptions.InsecureRequestWarning)\n\nclass URLLib3Transport(httpx.BaseTransport):\n    def __init__(self):\n        self.pool = urllib3.PoolManager()\n\n    def handle_request(self, request: httpx.Request):\n        payload = json.loads(request.content.decode(\"utf-8\").replace(\"'\",'\"'))\n        urllib3_response = self.pool.request(request.method, str(request.url), headers=request.headers, json=payload)\n        content = json.loads(urllib3_response.data.decode('utf-8'))\n        stream = httpx.ByteStream(json.dumps(content).encode(\"utf-8\"))\n        headers = [(b\"content-type\", b\"application/json\")]\n        return httpx.Response(200, headers=headers, stream=stream)\n\nclient = httpx.Client(transport=URLLib3Transport())",
      "metadata": {
        "trusted": true,
        "id": "fyWAeBAMNMnn"
      },
      "outputs": [],
      "execution_count": 14
    },
    {
      "cell_type": "markdown",
      "source": "# Step 3: To call OpenAI API as usual with your created http_client, which was introduced since OpenAI Python version 1.x\nFeel free to change this part, but please definitely assign **http_client=client**, which is very important.",
      "metadata": {
        "id": "XaXY3joFNMnn"
      }
    },
    {
      "cell_type": "code",
      "source": "import os\nfrom openai import AzureOpenAI\n\nazure_client = AzureOpenAI(\n  api_key = '', # api_key \n  api_version = \"2023-07-01-preview\",\n  azure_endpoint = \"https://uksouth-esg.openai.azure.com/\",\n  http_client=client # call the transport client here!!! Very important. \n)",
      "metadata": {
        "trusted": true,
        "id": "oyz_9XoGNMnp",
        "outputId": "4f8fea0d-06bd-43b3-8223-35035abb5ded"
      },
      "outputs": [],
      "execution_count": 15
    },
    {
      "cell_type": "code",
      "source": "response = azure_client.chat.completions.create(\n    model=\"gpt-35-turbo\", # model = \"deployment_name\".\n    messages=[\n        {\"role\": \"system\", \"content\": \"Assistant is a large language model trained by OpenAI.\"},\n        {\"role\": \"user\", \"content\": \"Who were the founders of Microsoft?\"}\n    ]\n)\n\nprint(response.choices[0].message.content)",
      "metadata": {
        "trusted": true
      },
      "outputs": [
        {
          "name": "stdout",
          "text": "Microsoft was founded by Bill Gates and Paul Allen in 1975. They are credited with creating one of the largest and most successful technology companies in the world.\n",
          "output_type": "stream"
        }
      ],
      "execution_count": 16
    }
  ]
}