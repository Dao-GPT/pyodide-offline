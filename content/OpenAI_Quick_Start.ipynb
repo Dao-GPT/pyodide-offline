{
  "metadata": {
    "kernelspec": {
      "name": "python",
      "display_name": "Python (Pyodide)",
      "language": "python"
    },
    "language_info": {
      "codemirror_mode": {
        "name": "python",
        "version": 3
      },
      "file_extension": ".py",
      "mimetype": "text/x-python",
      "name": "python",
      "nbconvert_exporter": "python",
      "pygments_lexer": "ipython3",
      "version": "3.8"
    },
    "colab": {
      "provenance": []
    }
  },
  "nbformat_minor": 4,
  "nbformat": 4,
  "cells": [
    {
      "cell_type": "markdown",
      "source": "# Step 1: To install the underlying packages",
      "metadata": {
        "id": "UEChYEVRNMni"
      }
    },
    {
      "cell_type": "code",
      "source": "import micropip\nawait micropip.install('https://jupyterlite.readthedocs.io/multidict-4.7.6-py3-none-any.whl', keep_going=True)\nawait micropip.install('https://jupyterlite.readthedocs.io/frozenlist-1.4.0-py3-none-any.whl', keep_going=True)",
      "metadata": {
        "trusted": true,
        "id": "grSOYS3uNMnk"
      },
      "outputs": [],
      "execution_count": 1
    },
    {
      "cell_type": "code",
      "source": "await micropip.install('https://jupyterlite.readthedocs.io/urllib3-2.1.0-py3-none-any.whl', keep_going=True)\nawait micropip.install('https://jupyterlite.readthedocs.io/aiohttp-3.9.1-py3-none-any.whl', keep_going=True)",
      "metadata": {
        "trusted": true
      },
      "outputs": [
        {
          "ename": "<class 'zipfile.BadZipFile'>",
          "evalue": "File is not a zip file",
          "traceback": [
            "\u001b[0;31m---------------------------------------------------------------------------\u001b[0m",
            "\u001b[0;31mBadZipFile\u001b[0m                                Traceback (most recent call last)",
            "Cell \u001b[0;32mIn[3], line 2\u001b[0m\n\u001b[1;32m      1\u001b[0m \u001b[38;5;28;01mawait\u001b[39;00m micropip\u001b[38;5;241m.\u001b[39minstall(\u001b[38;5;124m'\u001b[39m\u001b[38;5;124mhttps://jupyterlite.readthedocs.io/urllib3-2.1.0-py3-none-any.whl\u001b[39m\u001b[38;5;124m'\u001b[39m, keep_going\u001b[38;5;241m=\u001b[39m\u001b[38;5;28;01mTrue\u001b[39;00m)\n\u001b[0;32m----> 2\u001b[0m \u001b[38;5;28;01mawait\u001b[39;00m micropip\u001b[38;5;241m.\u001b[39minstall(\u001b[38;5;124m'\u001b[39m\u001b[38;5;124mhttps://jupyterlite.readthedocs.io/aiohttp-3.9.1-py3-none-any.whl\u001b[39m\u001b[38;5;124m'\u001b[39m, keep_going\u001b[38;5;241m=\u001b[39m\u001b[38;5;28;01mTrue\u001b[39;00m)\n",
            "File \u001b[0;32m/lib/python3.11/site-packages/micropip/_commands/install.py:142\u001b[0m, in \u001b[0;36minstall\u001b[0;34m(requirements, keep_going, deps, credentials, pre, index_urls, verbose)\u001b[0m\n\u001b[1;32m    130\u001b[0m     index_urls \u001b[38;5;241m=\u001b[39m package_index\u001b[38;5;241m.\u001b[39mINDEX_URLS[:]\n\u001b[1;32m    132\u001b[0m transaction \u001b[38;5;241m=\u001b[39m Transaction(\n\u001b[1;32m    133\u001b[0m     ctx\u001b[38;5;241m=\u001b[39mctx,\n\u001b[1;32m    134\u001b[0m     ctx_extras\u001b[38;5;241m=\u001b[39m[],\n\u001b[0;32m   (...)\u001b[0m\n\u001b[1;32m    140\u001b[0m     index_urls\u001b[38;5;241m=\u001b[39mindex_urls,\n\u001b[1;32m    141\u001b[0m )\n\u001b[0;32m--> 142\u001b[0m \u001b[38;5;28;01mawait\u001b[39;00m transaction\u001b[38;5;241m.\u001b[39mgather_requirements(requirements)\n\u001b[1;32m    144\u001b[0m \u001b[38;5;28;01mif\u001b[39;00m transaction\u001b[38;5;241m.\u001b[39mfailed:\n\u001b[1;32m    145\u001b[0m     failed_requirements \u001b[38;5;241m=\u001b[39m \u001b[38;5;124m\"\u001b[39m\u001b[38;5;124m, \u001b[39m\u001b[38;5;124m\"\u001b[39m\u001b[38;5;241m.\u001b[39mjoin([\u001b[38;5;124mf\u001b[39m\u001b[38;5;124m\"\u001b[39m\u001b[38;5;124m'\u001b[39m\u001b[38;5;132;01m{\u001b[39;00mreq\u001b[38;5;132;01m}\u001b[39;00m\u001b[38;5;124m'\u001b[39m\u001b[38;5;124m\"\u001b[39m \u001b[38;5;28;01mfor\u001b[39;00m req \u001b[38;5;129;01min\u001b[39;00m transaction\u001b[38;5;241m.\u001b[39mfailed])\n",
            "File \u001b[0;32m/lib/python3.11/site-packages/micropip/transaction.py:204\u001b[0m, in \u001b[0;36mTransaction.gather_requirements\u001b[0;34m(self, requirements)\u001b[0m\n\u001b[1;32m    201\u001b[0m \u001b[38;5;28;01mfor\u001b[39;00m requirement \u001b[38;5;129;01min\u001b[39;00m requirements:\n\u001b[1;32m    202\u001b[0m     requirement_promises\u001b[38;5;241m.\u001b[39mappend(\u001b[38;5;28mself\u001b[39m\u001b[38;5;241m.\u001b[39madd_requirement(requirement))\n\u001b[0;32m--> 204\u001b[0m \u001b[38;5;28;01mawait\u001b[39;00m asyncio\u001b[38;5;241m.\u001b[39mgather(\u001b[38;5;241m*\u001b[39mrequirement_promises)\n",
            "File \u001b[0;32m/lib/python3.11/site-packages/micropip/transaction.py:217\u001b[0m, in \u001b[0;36mTransaction.add_requirement\u001b[0;34m(self, req)\u001b[0m\n\u001b[1;32m    214\u001b[0m wheel \u001b[38;5;241m=\u001b[39m WheelInfo\u001b[38;5;241m.\u001b[39mfrom_url(req)\n\u001b[1;32m    215\u001b[0m check_compatible(wheel\u001b[38;5;241m.\u001b[39mfilename)\n\u001b[0;32m--> 217\u001b[0m \u001b[38;5;28;01mawait\u001b[39;00m \u001b[38;5;28mself\u001b[39m\u001b[38;5;241m.\u001b[39madd_wheel(wheel, extras\u001b[38;5;241m=\u001b[39m\u001b[38;5;28mset\u001b[39m(), specifier\u001b[38;5;241m=\u001b[39m\u001b[38;5;124m\"\u001b[39m\u001b[38;5;124m\"\u001b[39m)\n",
            "File \u001b[0;32m/lib/python3.11/site-packages/micropip/transaction.py:385\u001b[0m, in \u001b[0;36mTransaction.add_wheel\u001b[0;34m(self, wheel, extras, specifier)\u001b[0m\n\u001b[1;32m    383\u001b[0m \u001b[38;5;28;01mawait\u001b[39;00m wheel\u001b[38;5;241m.\u001b[39mdownload(\u001b[38;5;28mself\u001b[39m\u001b[38;5;241m.\u001b[39mfetch_kwargs)\n\u001b[1;32m    384\u001b[0m \u001b[38;5;28;01mif\u001b[39;00m \u001b[38;5;28mself\u001b[39m\u001b[38;5;241m.\u001b[39mdeps:\n\u001b[0;32m--> 385\u001b[0m     \u001b[38;5;28;01mawait\u001b[39;00m \u001b[38;5;28mself\u001b[39m\u001b[38;5;241m.\u001b[39mgather_requirements(wheel\u001b[38;5;241m.\u001b[39mrequires(extras))\n\u001b[1;32m    387\u001b[0m \u001b[38;5;28mself\u001b[39m\u001b[38;5;241m.\u001b[39mwheels\u001b[38;5;241m.\u001b[39mappend(wheel)\n",
            "File \u001b[0;32m/lib/python3.11/site-packages/micropip/transaction.py:204\u001b[0m, in \u001b[0;36mTransaction.gather_requirements\u001b[0;34m(self, requirements)\u001b[0m\n\u001b[1;32m    201\u001b[0m \u001b[38;5;28;01mfor\u001b[39;00m requirement \u001b[38;5;129;01min\u001b[39;00m requirements:\n\u001b[1;32m    202\u001b[0m     requirement_promises\u001b[38;5;241m.\u001b[39mappend(\u001b[38;5;28mself\u001b[39m\u001b[38;5;241m.\u001b[39madd_requirement(requirement))\n\u001b[0;32m--> 204\u001b[0m \u001b[38;5;28;01mawait\u001b[39;00m asyncio\u001b[38;5;241m.\u001b[39mgather(\u001b[38;5;241m*\u001b[39mrequirement_promises)\n",
            "File \u001b[0;32m/lib/python3.11/site-packages/micropip/transaction.py:208\u001b[0m, in \u001b[0;36mTransaction.add_requirement\u001b[0;34m(self, req)\u001b[0m\n\u001b[1;32m    206\u001b[0m \u001b[38;5;28;01masync\u001b[39;00m \u001b[38;5;28;01mdef\u001b[39;00m \u001b[38;5;21madd_requirement\u001b[39m(\u001b[38;5;28mself\u001b[39m, req: \u001b[38;5;28mstr\u001b[39m \u001b[38;5;241m|\u001b[39m Requirement) \u001b[38;5;241m-\u001b[39m\u001b[38;5;241m>\u001b[39m \u001b[38;5;28;01mNone\u001b[39;00m:\n\u001b[1;32m    207\u001b[0m     \u001b[38;5;28;01mif\u001b[39;00m \u001b[38;5;28misinstance\u001b[39m(req, Requirement):\n\u001b[0;32m--> 208\u001b[0m         \u001b[38;5;28;01mreturn\u001b[39;00m \u001b[38;5;28;01mawait\u001b[39;00m \u001b[38;5;28mself\u001b[39m\u001b[38;5;241m.\u001b[39madd_requirement_inner(req)\n\u001b[1;32m    210\u001b[0m     \u001b[38;5;28;01mif\u001b[39;00m \u001b[38;5;129;01mnot\u001b[39;00m urlparse(req)\u001b[38;5;241m.\u001b[39mpath\u001b[38;5;241m.\u001b[39mendswith(\u001b[38;5;124m\"\u001b[39m\u001b[38;5;124m.whl\u001b[39m\u001b[38;5;124m\"\u001b[39m):\n\u001b[1;32m    211\u001b[0m         \u001b[38;5;28;01mreturn\u001b[39;00m \u001b[38;5;28;01mawait\u001b[39;00m \u001b[38;5;28mself\u001b[39m\u001b[38;5;241m.\u001b[39madd_requirement_inner(Requirement(req))\n",
            "File \u001b[0;32m/lib/python3.11/site-packages/micropip/transaction.py:300\u001b[0m, in \u001b[0;36mTransaction.add_requirement_inner\u001b[0;34m(self, req)\u001b[0m\n\u001b[1;32m    297\u001b[0m     \u001b[38;5;28;01mif\u001b[39;00m \u001b[38;5;28mself\u001b[39m\u001b[38;5;241m.\u001b[39m_add_requirement_from_pyodide_lock(req):\n\u001b[1;32m    298\u001b[0m         \u001b[38;5;28;01mreturn\u001b[39;00m\n\u001b[0;32m--> 300\u001b[0m     \u001b[38;5;28;01mawait\u001b[39;00m \u001b[38;5;28mself\u001b[39m\u001b[38;5;241m.\u001b[39m_add_requirement_from_package_index(req)\n\u001b[1;32m    301\u001b[0m \u001b[38;5;28;01melse\u001b[39;00m:\n\u001b[1;32m    302\u001b[0m     \u001b[38;5;28;01mtry\u001b[39;00m:\n",
            "File \u001b[0;32m/lib/python3.11/site-packages/micropip/transaction.py:347\u001b[0m, in \u001b[0;36mTransaction._add_requirement_from_package_index\u001b[0;34m(self, req)\u001b[0m\n\u001b[1;32m    344\u001b[0m \u001b[38;5;28;01mif\u001b[39;00m satisfied:\n\u001b[1;32m    345\u001b[0m     logger\u001b[38;5;241m.\u001b[39minfo(\u001b[38;5;124mf\u001b[39m\u001b[38;5;124m\"\u001b[39m\u001b[38;5;124mRequirement already satisfied: \u001b[39m\u001b[38;5;132;01m{\u001b[39;00mreq\u001b[38;5;132;01m}\u001b[39;00m\u001b[38;5;124m (\u001b[39m\u001b[38;5;132;01m{\u001b[39;00mver\u001b[38;5;132;01m}\u001b[39;00m\u001b[38;5;124m)\u001b[39m\u001b[38;5;124m\"\u001b[39m)\n\u001b[0;32m--> 347\u001b[0m \u001b[38;5;28;01mawait\u001b[39;00m \u001b[38;5;28mself\u001b[39m\u001b[38;5;241m.\u001b[39madd_wheel(wheel, req\u001b[38;5;241m.\u001b[39mextras, specifier\u001b[38;5;241m=\u001b[39m\u001b[38;5;28mstr\u001b[39m(req\u001b[38;5;241m.\u001b[39mspecifier))\n",
            "File \u001b[0;32m/lib/python3.11/site-packages/micropip/transaction.py:383\u001b[0m, in \u001b[0;36mTransaction.add_wheel\u001b[0;34m(self, wheel, extras, specifier)\u001b[0m\n\u001b[1;32m    380\u001b[0m logger\u001b[38;5;241m.\u001b[39minfo(\u001b[38;5;124mf\u001b[39m\u001b[38;5;124m\"\u001b[39m\u001b[38;5;124mCollecting \u001b[39m\u001b[38;5;132;01m{\u001b[39;00mwheel\u001b[38;5;241m.\u001b[39mname\u001b[38;5;132;01m}\u001b[39;00m\u001b[38;5;132;01m{\u001b[39;00mspecifier\u001b[38;5;132;01m}\u001b[39;00m\u001b[38;5;124m\"\u001b[39m)\n\u001b[1;32m    381\u001b[0m logger\u001b[38;5;241m.\u001b[39minfo(\u001b[38;5;124mf\u001b[39m\u001b[38;5;124m\"\u001b[39m\u001b[38;5;124m  Downloading \u001b[39m\u001b[38;5;132;01m{\u001b[39;00mwheel\u001b[38;5;241m.\u001b[39murl\u001b[38;5;241m.\u001b[39msplit(\u001b[38;5;124m'\u001b[39m\u001b[38;5;124m/\u001b[39m\u001b[38;5;124m'\u001b[39m)[\u001b[38;5;241m-\u001b[39m\u001b[38;5;241m1\u001b[39m]\u001b[38;5;132;01m}\u001b[39;00m\u001b[38;5;124m\"\u001b[39m)\n\u001b[0;32m--> 383\u001b[0m \u001b[38;5;28;01mawait\u001b[39;00m wheel\u001b[38;5;241m.\u001b[39mdownload(\u001b[38;5;28mself\u001b[39m\u001b[38;5;241m.\u001b[39mfetch_kwargs)\n\u001b[1;32m    384\u001b[0m \u001b[38;5;28;01mif\u001b[39;00m \u001b[38;5;28mself\u001b[39m\u001b[38;5;241m.\u001b[39mdeps:\n\u001b[1;32m    385\u001b[0m     \u001b[38;5;28;01mawait\u001b[39;00m \u001b[38;5;28mself\u001b[39m\u001b[38;5;241m.\u001b[39mgather_requirements(wheel\u001b[38;5;241m.\u001b[39mrequires(extras))\n",
            "File \u001b[0;32m/lib/python3.11/site-packages/micropip/transaction.py:100\u001b[0m, in \u001b[0;36mWheelInfo.download\u001b[0;34m(self, fetch_kwargs)\u001b[0m\n\u001b[1;32m     98\u001b[0m data \u001b[38;5;241m=\u001b[39m \u001b[38;5;28;01mawait\u001b[39;00m \u001b[38;5;28mself\u001b[39m\u001b[38;5;241m.\u001b[39m_fetch_bytes(fetch_kwargs)\n\u001b[1;32m     99\u001b[0m \u001b[38;5;28mself\u001b[39m\u001b[38;5;241m.\u001b[39mdata \u001b[38;5;241m=\u001b[39m data\n\u001b[0;32m--> 100\u001b[0m \u001b[38;5;28;01mwith\u001b[39;00m \u001b[43mZipFile\u001b[49m\u001b[43m(\u001b[49m\u001b[43mdata\u001b[49m\u001b[43m)\u001b[49m \u001b[38;5;28;01mas\u001b[39;00m zip_file:\n\u001b[1;32m    101\u001b[0m     \u001b[38;5;28mself\u001b[39m\u001b[38;5;241m.\u001b[39m_dist \u001b[38;5;241m=\u001b[39m pkg_resources_distribution_for_wheel(\n\u001b[1;32m    102\u001b[0m         zip_file, \u001b[38;5;28mself\u001b[39m\u001b[38;5;241m.\u001b[39mname, \u001b[38;5;124m\"\u001b[39m\u001b[38;5;124m???\u001b[39m\u001b[38;5;124m\"\u001b[39m\n\u001b[1;32m    103\u001b[0m     )\n\u001b[1;32m    105\u001b[0m \u001b[38;5;28mself\u001b[39m\u001b[38;5;241m.\u001b[39mproject_name \u001b[38;5;241m=\u001b[39m \u001b[38;5;28mself\u001b[39m\u001b[38;5;241m.\u001b[39m_dist\u001b[38;5;241m.\u001b[39mproject_name\n",
            "File \u001b[0;32m/lib/python311.zip/zipfile.py:1301\u001b[0m, in \u001b[0;36mZipFile.__init__\u001b[0;34m(self, file, mode, compression, allowZip64, compresslevel, strict_timestamps, metadata_encoding)\u001b[0m\n\u001b[1;32m   1299\u001b[0m \u001b[38;5;28;01mtry\u001b[39;00m:\n\u001b[1;32m   1300\u001b[0m     \u001b[38;5;28;01mif\u001b[39;00m mode \u001b[38;5;241m==\u001b[39m \u001b[38;5;124m'\u001b[39m\u001b[38;5;124mr\u001b[39m\u001b[38;5;124m'\u001b[39m:\n\u001b[0;32m-> 1301\u001b[0m         \u001b[38;5;28;43mself\u001b[39;49m\u001b[38;5;241;43m.\u001b[39;49m\u001b[43m_RealGetContents\u001b[49m\u001b[43m(\u001b[49m\u001b[43m)\u001b[49m\n\u001b[1;32m   1302\u001b[0m     \u001b[38;5;28;01melif\u001b[39;00m mode \u001b[38;5;129;01min\u001b[39;00m (\u001b[38;5;124m'\u001b[39m\u001b[38;5;124mw\u001b[39m\u001b[38;5;124m'\u001b[39m, \u001b[38;5;124m'\u001b[39m\u001b[38;5;124mx\u001b[39m\u001b[38;5;124m'\u001b[39m):\n\u001b[1;32m   1303\u001b[0m         \u001b[38;5;66;03m# set the modified flag so central directory gets written\u001b[39;00m\n\u001b[1;32m   1304\u001b[0m         \u001b[38;5;66;03m# even if no files are added to the archive\u001b[39;00m\n\u001b[1;32m   1305\u001b[0m         \u001b[38;5;28mself\u001b[39m\u001b[38;5;241m.\u001b[39m_didModify \u001b[38;5;241m=\u001b[39m \u001b[38;5;28;01mTrue\u001b[39;00m\n",
            "File \u001b[0;32m/lib/python311.zip/zipfile.py:1368\u001b[0m, in \u001b[0;36mZipFile._RealGetContents\u001b[0;34m(self)\u001b[0m\n\u001b[1;32m   1366\u001b[0m     \u001b[38;5;28;01mraise\u001b[39;00m BadZipFile(\u001b[38;5;124m\"\u001b[39m\u001b[38;5;124mFile is not a zip file\u001b[39m\u001b[38;5;124m\"\u001b[39m)\n\u001b[1;32m   1367\u001b[0m \u001b[38;5;28;01mif\u001b[39;00m \u001b[38;5;129;01mnot\u001b[39;00m endrec:\n\u001b[0;32m-> 1368\u001b[0m     \u001b[38;5;28;01mraise\u001b[39;00m BadZipFile(\u001b[38;5;124m\"\u001b[39m\u001b[38;5;124mFile is not a zip file\u001b[39m\u001b[38;5;124m\"\u001b[39m)\n\u001b[1;32m   1369\u001b[0m \u001b[38;5;28;01mif\u001b[39;00m \u001b[38;5;28mself\u001b[39m\u001b[38;5;241m.\u001b[39mdebug \u001b[38;5;241m>\u001b[39m \u001b[38;5;241m1\u001b[39m:\n\u001b[1;32m   1370\u001b[0m     \u001b[38;5;28mprint\u001b[39m(endrec)\n",
            "\u001b[0;31mBadZipFile\u001b[0m: File is not a zip file"
          ],
          "output_type": "error"
        }
      ],
      "execution_count": 3
    },
    {
      "cell_type": "code",
      "source": "await micropip.install('https://jupyterlite.readthedocs.io/openai-1.6.1-py3-none-any.whl', keep_going=True)",
      "metadata": {
        "trusted": true
      },
      "outputs": [
        {
          "ename": "<class 'zipfile.BadZipFile'>",
          "evalue": "File is not a zip file",
          "traceback": [
            "\u001b[0;31m---------------------------------------------------------------------------\u001b[0m",
            "\u001b[0;31mBadZipFile\u001b[0m                                Traceback (most recent call last)",
            "Cell \u001b[0;32mIn[2], line 1\u001b[0m\n\u001b[0;32m----> 1\u001b[0m \u001b[38;5;28;01mawait\u001b[39;00m micropip\u001b[38;5;241m.\u001b[39minstall(\u001b[38;5;124m'\u001b[39m\u001b[38;5;124mhttps://jupyterlite.readthedocs.io/openai-1.6.1-py3-none-any.whl\u001b[39m\u001b[38;5;124m'\u001b[39m, keep_going\u001b[38;5;241m=\u001b[39m\u001b[38;5;28;01mTrue\u001b[39;00m)\n",
            "File \u001b[0;32m/lib/python3.11/site-packages/micropip/_commands/install.py:142\u001b[0m, in \u001b[0;36minstall\u001b[0;34m(requirements, keep_going, deps, credentials, pre, index_urls, verbose)\u001b[0m\n\u001b[1;32m    130\u001b[0m     index_urls \u001b[38;5;241m=\u001b[39m package_index\u001b[38;5;241m.\u001b[39mINDEX_URLS[:]\n\u001b[1;32m    132\u001b[0m transaction \u001b[38;5;241m=\u001b[39m Transaction(\n\u001b[1;32m    133\u001b[0m     ctx\u001b[38;5;241m=\u001b[39mctx,\n\u001b[1;32m    134\u001b[0m     ctx_extras\u001b[38;5;241m=\u001b[39m[],\n\u001b[0;32m   (...)\u001b[0m\n\u001b[1;32m    140\u001b[0m     index_urls\u001b[38;5;241m=\u001b[39mindex_urls,\n\u001b[1;32m    141\u001b[0m )\n\u001b[0;32m--> 142\u001b[0m \u001b[38;5;28;01mawait\u001b[39;00m transaction\u001b[38;5;241m.\u001b[39mgather_requirements(requirements)\n\u001b[1;32m    144\u001b[0m \u001b[38;5;28;01mif\u001b[39;00m transaction\u001b[38;5;241m.\u001b[39mfailed:\n\u001b[1;32m    145\u001b[0m     failed_requirements \u001b[38;5;241m=\u001b[39m \u001b[38;5;124m\"\u001b[39m\u001b[38;5;124m, \u001b[39m\u001b[38;5;124m\"\u001b[39m\u001b[38;5;241m.\u001b[39mjoin([\u001b[38;5;124mf\u001b[39m\u001b[38;5;124m\"\u001b[39m\u001b[38;5;124m'\u001b[39m\u001b[38;5;132;01m{\u001b[39;00mreq\u001b[38;5;132;01m}\u001b[39;00m\u001b[38;5;124m'\u001b[39m\u001b[38;5;124m\"\u001b[39m \u001b[38;5;28;01mfor\u001b[39;00m req \u001b[38;5;129;01min\u001b[39;00m transaction\u001b[38;5;241m.\u001b[39mfailed])\n",
            "File \u001b[0;32m/lib/python3.11/site-packages/micropip/transaction.py:204\u001b[0m, in \u001b[0;36mTransaction.gather_requirements\u001b[0;34m(self, requirements)\u001b[0m\n\u001b[1;32m    201\u001b[0m \u001b[38;5;28;01mfor\u001b[39;00m requirement \u001b[38;5;129;01min\u001b[39;00m requirements:\n\u001b[1;32m    202\u001b[0m     requirement_promises\u001b[38;5;241m.\u001b[39mappend(\u001b[38;5;28mself\u001b[39m\u001b[38;5;241m.\u001b[39madd_requirement(requirement))\n\u001b[0;32m--> 204\u001b[0m \u001b[38;5;28;01mawait\u001b[39;00m asyncio\u001b[38;5;241m.\u001b[39mgather(\u001b[38;5;241m*\u001b[39mrequirement_promises)\n",
            "File \u001b[0;32m/lib/python3.11/site-packages/micropip/transaction.py:217\u001b[0m, in \u001b[0;36mTransaction.add_requirement\u001b[0;34m(self, req)\u001b[0m\n\u001b[1;32m    214\u001b[0m wheel \u001b[38;5;241m=\u001b[39m WheelInfo\u001b[38;5;241m.\u001b[39mfrom_url(req)\n\u001b[1;32m    215\u001b[0m check_compatible(wheel\u001b[38;5;241m.\u001b[39mfilename)\n\u001b[0;32m--> 217\u001b[0m \u001b[38;5;28;01mawait\u001b[39;00m \u001b[38;5;28mself\u001b[39m\u001b[38;5;241m.\u001b[39madd_wheel(wheel, extras\u001b[38;5;241m=\u001b[39m\u001b[38;5;28mset\u001b[39m(), specifier\u001b[38;5;241m=\u001b[39m\u001b[38;5;124m\"\u001b[39m\u001b[38;5;124m\"\u001b[39m)\n",
            "File \u001b[0;32m/lib/python3.11/site-packages/micropip/transaction.py:383\u001b[0m, in \u001b[0;36mTransaction.add_wheel\u001b[0;34m(self, wheel, extras, specifier)\u001b[0m\n\u001b[1;32m    380\u001b[0m logger\u001b[38;5;241m.\u001b[39minfo(\u001b[38;5;124mf\u001b[39m\u001b[38;5;124m\"\u001b[39m\u001b[38;5;124mCollecting \u001b[39m\u001b[38;5;132;01m{\u001b[39;00mwheel\u001b[38;5;241m.\u001b[39mname\u001b[38;5;132;01m}\u001b[39;00m\u001b[38;5;132;01m{\u001b[39;00mspecifier\u001b[38;5;132;01m}\u001b[39;00m\u001b[38;5;124m\"\u001b[39m)\n\u001b[1;32m    381\u001b[0m logger\u001b[38;5;241m.\u001b[39minfo(\u001b[38;5;124mf\u001b[39m\u001b[38;5;124m\"\u001b[39m\u001b[38;5;124m  Downloading \u001b[39m\u001b[38;5;132;01m{\u001b[39;00mwheel\u001b[38;5;241m.\u001b[39murl\u001b[38;5;241m.\u001b[39msplit(\u001b[38;5;124m'\u001b[39m\u001b[38;5;124m/\u001b[39m\u001b[38;5;124m'\u001b[39m)[\u001b[38;5;241m-\u001b[39m\u001b[38;5;241m1\u001b[39m]\u001b[38;5;132;01m}\u001b[39;00m\u001b[38;5;124m\"\u001b[39m)\n\u001b[0;32m--> 383\u001b[0m \u001b[38;5;28;01mawait\u001b[39;00m wheel\u001b[38;5;241m.\u001b[39mdownload(\u001b[38;5;28mself\u001b[39m\u001b[38;5;241m.\u001b[39mfetch_kwargs)\n\u001b[1;32m    384\u001b[0m \u001b[38;5;28;01mif\u001b[39;00m \u001b[38;5;28mself\u001b[39m\u001b[38;5;241m.\u001b[39mdeps:\n\u001b[1;32m    385\u001b[0m     \u001b[38;5;28;01mawait\u001b[39;00m \u001b[38;5;28mself\u001b[39m\u001b[38;5;241m.\u001b[39mgather_requirements(wheel\u001b[38;5;241m.\u001b[39mrequires(extras))\n",
            "File \u001b[0;32m/lib/python3.11/site-packages/micropip/transaction.py:100\u001b[0m, in \u001b[0;36mWheelInfo.download\u001b[0;34m(self, fetch_kwargs)\u001b[0m\n\u001b[1;32m     98\u001b[0m data \u001b[38;5;241m=\u001b[39m \u001b[38;5;28;01mawait\u001b[39;00m \u001b[38;5;28mself\u001b[39m\u001b[38;5;241m.\u001b[39m_fetch_bytes(fetch_kwargs)\n\u001b[1;32m     99\u001b[0m \u001b[38;5;28mself\u001b[39m\u001b[38;5;241m.\u001b[39mdata \u001b[38;5;241m=\u001b[39m data\n\u001b[0;32m--> 100\u001b[0m \u001b[38;5;28;01mwith\u001b[39;00m \u001b[43mZipFile\u001b[49m\u001b[43m(\u001b[49m\u001b[43mdata\u001b[49m\u001b[43m)\u001b[49m \u001b[38;5;28;01mas\u001b[39;00m zip_file:\n\u001b[1;32m    101\u001b[0m     \u001b[38;5;28mself\u001b[39m\u001b[38;5;241m.\u001b[39m_dist \u001b[38;5;241m=\u001b[39m pkg_resources_distribution_for_wheel(\n\u001b[1;32m    102\u001b[0m         zip_file, \u001b[38;5;28mself\u001b[39m\u001b[38;5;241m.\u001b[39mname, \u001b[38;5;124m\"\u001b[39m\u001b[38;5;124m???\u001b[39m\u001b[38;5;124m\"\u001b[39m\n\u001b[1;32m    103\u001b[0m     )\n\u001b[1;32m    105\u001b[0m \u001b[38;5;28mself\u001b[39m\u001b[38;5;241m.\u001b[39mproject_name \u001b[38;5;241m=\u001b[39m \u001b[38;5;28mself\u001b[39m\u001b[38;5;241m.\u001b[39m_dist\u001b[38;5;241m.\u001b[39mproject_name\n",
            "File \u001b[0;32m/lib/python311.zip/zipfile.py:1301\u001b[0m, in \u001b[0;36mZipFile.__init__\u001b[0;34m(self, file, mode, compression, allowZip64, compresslevel, strict_timestamps, metadata_encoding)\u001b[0m\n\u001b[1;32m   1299\u001b[0m \u001b[38;5;28;01mtry\u001b[39;00m:\n\u001b[1;32m   1300\u001b[0m     \u001b[38;5;28;01mif\u001b[39;00m mode \u001b[38;5;241m==\u001b[39m \u001b[38;5;124m'\u001b[39m\u001b[38;5;124mr\u001b[39m\u001b[38;5;124m'\u001b[39m:\n\u001b[0;32m-> 1301\u001b[0m         \u001b[38;5;28;43mself\u001b[39;49m\u001b[38;5;241;43m.\u001b[39;49m\u001b[43m_RealGetContents\u001b[49m\u001b[43m(\u001b[49m\u001b[43m)\u001b[49m\n\u001b[1;32m   1302\u001b[0m     \u001b[38;5;28;01melif\u001b[39;00m mode \u001b[38;5;129;01min\u001b[39;00m (\u001b[38;5;124m'\u001b[39m\u001b[38;5;124mw\u001b[39m\u001b[38;5;124m'\u001b[39m, \u001b[38;5;124m'\u001b[39m\u001b[38;5;124mx\u001b[39m\u001b[38;5;124m'\u001b[39m):\n\u001b[1;32m   1303\u001b[0m         \u001b[38;5;66;03m# set the modified flag so central directory gets written\u001b[39;00m\n\u001b[1;32m   1304\u001b[0m         \u001b[38;5;66;03m# even if no files are added to the archive\u001b[39;00m\n\u001b[1;32m   1305\u001b[0m         \u001b[38;5;28mself\u001b[39m\u001b[38;5;241m.\u001b[39m_didModify \u001b[38;5;241m=\u001b[39m \u001b[38;5;28;01mTrue\u001b[39;00m\n",
            "File \u001b[0;32m/lib/python311.zip/zipfile.py:1368\u001b[0m, in \u001b[0;36mZipFile._RealGetContents\u001b[0;34m(self)\u001b[0m\n\u001b[1;32m   1366\u001b[0m     \u001b[38;5;28;01mraise\u001b[39;00m BadZipFile(\u001b[38;5;124m\"\u001b[39m\u001b[38;5;124mFile is not a zip file\u001b[39m\u001b[38;5;124m\"\u001b[39m)\n\u001b[1;32m   1367\u001b[0m \u001b[38;5;28;01mif\u001b[39;00m \u001b[38;5;129;01mnot\u001b[39;00m endrec:\n\u001b[0;32m-> 1368\u001b[0m     \u001b[38;5;28;01mraise\u001b[39;00m BadZipFile(\u001b[38;5;124m\"\u001b[39m\u001b[38;5;124mFile is not a zip file\u001b[39m\u001b[38;5;124m\"\u001b[39m)\n\u001b[1;32m   1369\u001b[0m \u001b[38;5;28;01mif\u001b[39;00m \u001b[38;5;28mself\u001b[39m\u001b[38;5;241m.\u001b[39mdebug \u001b[38;5;241m>\u001b[39m \u001b[38;5;241m1\u001b[39m:\n\u001b[1;32m   1370\u001b[0m     \u001b[38;5;28mprint\u001b[39m(endrec)\n",
            "\u001b[0;31mBadZipFile\u001b[0m: File is not a zip file"
          ],
          "output_type": "error"
        }
      ],
      "execution_count": 2
    },
    {
      "cell_type": "code",
      "source": "",
      "metadata": {
        "trusted": true
      },
      "outputs": [],
      "execution_count": null
    },
    {
      "cell_type": "code",
      "source": "await micropip.install(\"ssl\")\nimport ssl\nawait micropip.install(\"httpx\", keep_going=True)\nimport httpx\nimport urllib3\nurllib3.disable_warnings(urllib3.exceptions.InsecureRequestWarning)\nimport json",
      "metadata": {
        "trusted": true
      },
      "outputs": [],
      "execution_count": null
    },
    {
      "cell_type": "markdown",
      "source": "# Step 2: To prepare a special http_client for your OpenAI connection",
      "metadata": {
        "id": "_ix5_fEMNMnm"
      }
    },
    {
      "cell_type": "code",
      "source": "import httpx\nimport urllib3\nurllib3.disable_warnings(urllib3.exceptions.InsecureRequestWarning)\n\nclass URLLib3Transport(httpx.BaseTransport):\n    def __init__(self):\n        self.pool = urllib3.PoolManager()\n\n    def handle_request(self, request: httpx.Request):\n        payload = json.loads(request.content.decode(\"utf-8\").replace(\"'\",'\"'))\n        urllib3_response = self.pool.request(request.method, str(request.url), headers=request.headers, json=payload)\n        content = json.loads(urllib3_response.data.decode('utf-8'))\n        stream = httpx.ByteStream(json.dumps(content).encode(\"utf-8\"))\n        headers = [(b\"content-type\", b\"application/json\")]\n        return httpx.Response(200, headers=headers, stream=stream)\n\nclient = httpx.Client(transport=URLLib3Transport())\n",
      "metadata": {
        "trusted": true,
        "id": "fyWAeBAMNMnn"
      },
      "outputs": [],
      "execution_count": null
    },
    {
      "cell_type": "markdown",
      "source": "# Step 3: To call OpenAI API as usual with your created http_client, which was introduced since OpenAI Python version x.x.x",
      "metadata": {
        "id": "XaXY3joFNMnn"
      }
    },
    {
      "cell_type": "markdown",
      "source": "## (Please use an Azure service instead.)",
      "metadata": {
        "id": "y4x_n-amNMno"
      }
    },
    {
      "cell_type": "code",
      "source": "import json\nfrom openai import OpenAI\n\nopenai_client = OpenAI(\n    base_url=\"https://api.openai.com/v1/\",\n    api_key=\"your key here\",\n    http_client=client # call the transport client here\n)\nresponse = openai_client.chat.completions.with_raw_response.create(\n    messages=[{\n        \"role\": \"user\",\n        \"content\": \"sing me a song\",\n    }],\n    model=\"gpt-3.5-turbo\",\n    max_tokens=30,\n    temperature=0.7\n)\ncompletion = response.parse()\nprint(completion)\n",
      "metadata": {
        "trusted": true,
        "id": "oyz_9XoGNMnp",
        "outputId": "4f8fea0d-06bd-43b3-8223-35035abb5ded"
      },
      "outputs": [
        {
          "name": "stdout",
          "text": "ChatCompletion(id='chatcmpl-8UnVuARz8PKRtoR1XBAKmADYvTRcj', choices=[Choice(finish_reason='length', index=0, message=ChatCompletionMessage(content=\"Sure! Here's a short song for you:\\n\\n(Verse 1)\\nIn a world of endless dreams,\\nWhere the sun forever beams,\\nLet me\", role='assistant', function_call=None, tool_calls=None))], created=1702350862, model='gpt-3.5-turbo-0613', object='chat.completion', system_fingerprint=None, usage=CompletionUsage(completion_tokens=30, prompt_tokens=11, total_tokens=41))\n",
          "output_type": "stream"
        }
      ],
      "execution_count": null
    },
    {
      "cell_type": "code",
      "source": "print(completion.choices[0].message.content)",
      "metadata": {
        "trusted": true,
        "id": "EkLBhU_NNMnq",
        "outputId": "22f68031-61f5-41fd-f52f-cdd87f618fab"
      },
      "outputs": [
        {
          "name": "stdout",
          "text": "Sure! Here's a short song for you:\n\n(Verse 1)\nIn a world of endless dreams,\nWhere the sun forever beams,\nLet me\n",
          "output_type": "stream"
        }
      ],
      "execution_count": null
    },
    {
      "cell_type": "code",
      "source": "",
      "metadata": {
        "trusted": true,
        "id": "bBPgwiLqNMnr"
      },
      "outputs": [],
      "execution_count": null
    }
  ]
}