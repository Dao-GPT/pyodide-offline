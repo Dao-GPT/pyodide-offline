{
  "metadata": {
    "kernelspec": {
      "name": "python",
      "display_name": "Python (Pyodide)",
      "language": "python"
    },
    "language_info": {
      "codemirror_mode": {
        "name": "python",
        "version": 3
      },
      "file_extension": ".py",
      "mimetype": "text/x-python",
      "name": "python",
      "nbconvert_exporter": "python",
      "pygments_lexer": "ipython3",
      "version": "3.8"
    },
    "colab": {
      "provenance": []
    }
  },
  "nbformat_minor": 4,
  "nbformat": 4,
  "cells": [
    {
      "cell_type": "markdown",
      "source": "# Step 1: To config your Azure OpenAI connection\nPlease change this part according to your environment.",
      "metadata": {
        "id": "_ix5_fEMNMnm"
      }
    },
    {
      "cell_type": "code",
      "source": "API_KEY = '5b8ff8db18904a8'\nAPI_VERSION = \"2023-07-01-preview\"\nAZURE_ENDPOINT = \"https://uksouth-esg.openai.azure.com/\"\nMODEL_NAME=\"gpt-35-turbo\"",
      "metadata": {
        "trusted": true,
        "id": "grSOYS3uNMnk"
      },
      "outputs": [],
      "execution_count": 58
    },
    {
      "cell_type": "markdown",
      "source": "# Step 2: To install the underlying packages\nDo not change this part.",
      "metadata": {
        "id": "UEChYEVRNMni"
      }
    },
    {
      "cell_type": "code",
      "source": "# Do NOT modify this file unless you are very familar with the packages and version dependecies!\n\nimport micropip\nawait micropip.install('https://jupyterlite.readthedocs.io/multidict-4.7.6-py3-none-any.whl', keep_going=True)\nawait micropip.install('https://jupyterlite.readthedocs.io/frozenlist-1.4.0-py3-none-any.whl', keep_going=True)\nawait micropip.install('https://jupyterlite.readthedocs.io/multidict-4.7.6-py3-none-any.whl', keep_going=True)\nawait micropip.install('https://jupyterlite.readthedocs.io/frozenlist-1.4.0-py3-none-any.whl', keep_going=True)\nawait micropip.install('https://jupyterlite.readthedocs.io/urllib3-2.1.0-py3-none-any.whl', keep_going=True)\nawait micropip.install('https://jupyterlite.readthedocs.io/aiohttp-3.9.1-py3-none-any.whl', keep_going=True)\nawait micropip.install('https://jupyterlite.readthedocs.io/openai-1.6.1-py3-none-any.whl', keep_going=True)\nawait micropip.install(\"ssl\")\nimport ssl\nawait micropip.install(\"httpx\", keep_going=True)\nimport httpx\nimport urllib3\nurllib3.disable_warnings(urllib3.exceptions.InsecureRequestWarning)\nimport json\nimport httpx\nimport urllib3\nurllib3.disable_warnings(urllib3.exceptions.InsecureRequestWarning)\n\nclass URLLib3Transport(httpx.BaseTransport):\n    def __init__(self):\n        self.pool = urllib3.PoolManager()\n\n    def handle_request(self, request: httpx.Request):\n        payload = json.loads(request.content.decode(\"utf-8\").replace(\"'\",'\"'))\n        urllib3_response = self.pool.request(request.method, str(request.url), headers=request.headers, json=payload)\n        content = json.loads(urllib3_response.data.decode('utf-8'))\n        stream = httpx.ByteStream(json.dumps(content).encode(\"utf-8\"))\n        headers = [(b\"content-type\", b\"application/json\")]\n        return httpx.Response(200, headers=headers, stream=stream)\nhttpx_client = httpx.Client(transport=URLLib3Transport())\n\nimport os\nfrom openai import AzureOpenAI\n\nazure_client = AzureOpenAI(\n  api_key = API_KEY,  \n  api_version = API_VERSION,\n  azure_endpoint = AZURE_ENDPOINT,\n  http_client=httpx_client # call the transport client here. This is very important !!!\n)\n# Utilitis for low coding AI\n\nyour_messages=[\n        {\"role\": \"system\", \"content\": \"Assistant is a large language model trained by OpenAI.\"},\n    ]\n\ndef ask(question):\n    global your_messages\n    your_messages.append({\"role\": \"user\", \"content\": question})\n    response = azure_client.chat.completions.create(\n        model=MODEL_NAME, # model = \"deployment_name\".\n        messages=your_messages\n    )\n    print(response.choices[0].message.content)\n    your_messages.append({\"role\": \"assistant\", \"content\": response.choices[0].message.content})\n\ndef newtopic():\n    global your_messages\n    your_messages=[\n        {\"role\": \"system\", \"content\": \"Assistant is a large language model trained by OpenAI.\"},\n    ]",
      "metadata": {
        "trusted": true
      },
      "outputs": [],
      "execution_count": 59
    },
    {
      "cell_type": "markdown",
      "source": "# Step 3: To call OpenAI API as usual BUT with pre-created http_client\nazure_client ( AzureOpenAI ) has been pre-created!",
      "metadata": {
        "id": "XaXY3joFNMnn"
      }
    },
    {
      "cell_type": "code",
      "source": "# import os\n# from openai import AzureOpenAI\n# azure_client = AzureOpenAI(\n#   api_key = API_KEY,  \n#   api_version = API_VERSION,\n#   azure_endpoint = AZURE_ENDPOINT,\n#   http_client=client # call the transport client here. This is very important !!!\n# )",
      "metadata": {
        "trusted": true
      },
      "outputs": [],
      "execution_count": 60
    },
    {
      "cell_type": "code",
      "source": "ask(\"Who were the founders of OpenAI?\")",
      "metadata": {
        "trusted": true
      },
      "outputs": [
        {
          "name": "stdout",
          "text": "OpenAI was founded by Elon Musk, Sam Altman, Greg Brockman, Ilya Sutskever, John Schulman, and Wojciech Zaremba. These individuals came together with the goal of ensuring that artificial intelligence (AI) benefits all of humanity.\n",
          "output_type": "stream"
        }
      ],
      "execution_count": 61
    },
    {
      "cell_type": "code",
      "source": "ask(\"Can you tell more about its headquarter?\")",
      "metadata": {
        "trusted": true
      },
      "outputs": [
        {
          "name": "stdout",
          "text": "OpenAI's headquarters is located in San Francisco, California. The organization also has offices in other locations, such as Canada and London. As a prominent research organization in the field of artificial intelligence, OpenAI has attracted top talent from around the world and continues to make significant contributions to the development and understanding of AI technologies.\n",
          "output_type": "stream"
        }
      ],
      "execution_count": 62
    },
    {
      "cell_type": "code",
      "source": "newtopic()",
      "metadata": {
        "trusted": true
      },
      "outputs": [],
      "execution_count": 63
    },
    {
      "cell_type": "code",
      "source": "your_messages",
      "metadata": {
        "trusted": true
      },
      "outputs": [
        {
          "execution_count": 64,
          "output_type": "execute_result",
          "data": {
            "text/plain": "[{'role': 'system',\n  'content': 'Assistant is a large language model trained by OpenAI.'}]"
          },
          "metadata": {}
        }
      ],
      "execution_count": 64
    },
    {
      "cell_type": "code",
      "source": "ask(\"What is ChatGPT?\")",
      "metadata": {
        "trusted": true
      },
      "outputs": [
        {
          "name": "stdout",
          "text": "ChatGPT is a conversational AI model developed by OpenAI. It is based on the GPT-3 (Generative Pre-trained Transformer 3) architecture and is designed to understand and generate human-like text based on the input it receives. ChatGPT can engage in natural language conversations, answer questions, provide explanations, and assist with a wide range of tasks. It has been trained on a diverse range of internet text data to help it understand and generate human-like responses.\n",
          "output_type": "stream"
        }
      ],
      "execution_count": 65
    }
  ]
}